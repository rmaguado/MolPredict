{
 "cells": [
  {
   "cell_type": "code",
   "execution_count": 14,
   "id": "d100c1e3-aacd-48fc-a3be-9765492b1b4b",
   "metadata": {},
   "outputs": [],
   "source": [
    "import pandas as pd\n",
    "import numpy as np\n",
    "from rdkit import Chem, DataStructs\n",
    "from rdkit.Chem import AllChem, SaltRemover\n",
    "from rdkit import RDLogger\n",
    "from molvs import Standardizer\n",
    "import matplotlib.pyplot as plt"
   ]
  },
  {
   "cell_type": "code",
   "execution_count": 15,
   "id": "abee5a91-7dbe-43d4-8e1b-1ccab90cd6eb",
   "metadata": {},
   "outputs": [],
   "source": [
    "i = 0\n",
    "data_path = \"../../Data/result/nci60/CV10\"\n",
    "train = pd.read_csv(data_path + f'/fold{i}/train.csv')\n",
    "test = pd.read_csv(data_path + f'/fold{i}/test.csv')\n",
    "val = pd.read_csv(data_path + f'/fold{i}/val.csv')"
   ]
  },
  {
   "cell_type": "code",
   "execution_count": 20,
   "id": "03cf4534-7534-4274-846a-daac9503f925",
   "metadata": {},
   "outputs": [],
   "source": [
    "def preprocess_smiles(smiles):\n",
    "    # Attempt to sanitize the SMILES\n",
    "    mol = Chem.MolFromSmiles(smiles)\n",
    "    if mol is None:\n",
    "        print(\"Invalid SMILES:\", smiles)\n",
    "        return None\n",
    "    \n",
    "    # Sanitize the molecule\n",
    "    Chem.SanitizeMol(mol)\n",
    "    \n",
    "    # Check if there are charged atoms and neutralize\n",
    "    if mol.GetNumAtoms():\n",
    "        Chem.Kekulize(mol)\n",
    "        Chem.AssignStereochemistry(mol, cleanIt=True, force=True)\n",
    "        Chem.SanitizeMol(mol)\n",
    "        Chem.DetectBondStereochemistry(mol)\n",
    "        Chem.AssignStereochemistry(mol, cleanIt=True, force=True)\n",
    "\n",
    "    return Chem.MolToSmiles(mol, isomericSmiles=True)"
   ]
  },
  {
   "cell_type": "code",
   "execution_count": 21,
   "id": "4fed8bac-16df-4028-b214-481371b32713",
   "metadata": {},
   "outputs": [],
   "source": [
    "def smiles2morgan(smiles, radius=2, nBits=1024):\n",
    "    sanitized_smile = preprocess_smiles(smiles)\n",
    "    try:\n",
    "        mol = Chem.MolFromSmiles(smiles)\n",
    "        remover = SaltRemover.SaltRemover()  # remove salt\n",
    "        mol = remover.StripMol(mol)\n",
    "        s = Standardizer()  # standardize molecule\n",
    "        mol = s.standardize(mol)\n",
    "        features_vec = AllChem.GetMorganFingerprintAsBitVect(mol, radius, nBits=nBits)\n",
    "        features = np.zeros((1,))\n",
    "        DataStructs.ConvertToNumpyArray(features_vec, features)\n",
    "    except:\n",
    "        return smiles"
   ]
  },
  {
   "cell_type": "code",
   "execution_count": 17,
   "id": "35f611b9-0496-41ea-93a5-5faebeafc436",
   "metadata": {},
   "outputs": [
    {
     "data": {
      "text/html": [
       "<div>\n",
       "<style scoped>\n",
       "    .dataframe tbody tr th:only-of-type {\n",
       "        vertical-align: middle;\n",
       "    }\n",
       "\n",
       "    .dataframe tbody tr th {\n",
       "        vertical-align: top;\n",
       "    }\n",
       "\n",
       "    .dataframe thead th {\n",
       "        text-align: right;\n",
       "    }\n",
       "</style>\n",
       "<table border=\"1\" class=\"dataframe\">\n",
       "  <thead>\n",
       "    <tr style=\"text-align: right;\">\n",
       "      <th></th>\n",
       "      <th>cell_line</th>\n",
       "      <th>panel</th>\n",
       "      <th>smiles</th>\n",
       "      <th>pIC50</th>\n",
       "    </tr>\n",
       "  </thead>\n",
       "  <tbody>\n",
       "    <tr>\n",
       "      <th>0</th>\n",
       "      <td>MDA-MB-231</td>\n",
       "      <td>BRE</td>\n",
       "      <td>NC(=O)c1sc(cc1OCc2ccccc2Br)n3cnc4cc(ccc34)C(F)...</td>\n",
       "      <td>-1.3979</td>\n",
       "    </tr>\n",
       "    <tr>\n",
       "      <th>1</th>\n",
       "      <td>MDA-MB-231</td>\n",
       "      <td>BRE</td>\n",
       "      <td>C\\C=C(\\C)/C(=O)O[C@@H]1CCN2CC[C@H](COC(=O)\\C(=...</td>\n",
       "      <td>-2.0000</td>\n",
       "    </tr>\n",
       "    <tr>\n",
       "      <th>2</th>\n",
       "      <td>SNB75</td>\n",
       "      <td>CNS</td>\n",
       "      <td>C=CC(=O)NC(=N)NC#N</td>\n",
       "      <td>-2.0000</td>\n",
       "    </tr>\n",
       "    <tr>\n",
       "      <th>3</th>\n",
       "      <td>EKVX</td>\n",
       "      <td>LNS</td>\n",
       "      <td>Clc1ccc(CNNC(=O)Nc2cccc3ccccc23)cc1</td>\n",
       "      <td>-2.0000</td>\n",
       "    </tr>\n",
       "    <tr>\n",
       "      <th>4</th>\n",
       "      <td>NCI-H23</td>\n",
       "      <td>LNS</td>\n",
       "      <td>CC\\C(=N/NC(=O)c1cccnc1)\\c2ccc3OCCOc3c2</td>\n",
       "      <td>-2.0000</td>\n",
       "    </tr>\n",
       "  </tbody>\n",
       "</table>\n",
       "</div>"
      ],
      "text/plain": [
       "    cell_line panel                                             smiles   pIC50\n",
       "0  MDA-MB-231   BRE  NC(=O)c1sc(cc1OCc2ccccc2Br)n3cnc4cc(ccc34)C(F)... -1.3979\n",
       "1  MDA-MB-231   BRE  C\\C=C(\\C)/C(=O)O[C@@H]1CCN2CC[C@H](COC(=O)\\C(=... -2.0000\n",
       "2       SNB75   CNS                                 C=CC(=O)NC(=N)NC#N -2.0000\n",
       "3        EKVX   LNS                Clc1ccc(CNNC(=O)Nc2cccc3ccccc23)cc1 -2.0000\n",
       "4     NCI-H23   LNS             CC\\C(=N/NC(=O)c1cccnc1)\\c2ccc3OCCOc3c2 -2.0000"
      ]
     },
     "execution_count": 17,
     "metadata": {},
     "output_type": "execute_result"
    }
   ],
   "source": [
    "train.head()"
   ]
  },
  {
   "cell_type": "code",
   "execution_count": 18,
   "id": "e1f64c2b-93a0-44bc-95d4-213ce27e4dea",
   "metadata": {},
   "outputs": [
    {
     "data": {
      "text/plain": [
       "56034"
      ]
     },
     "execution_count": 18,
     "metadata": {},
     "output_type": "execute_result"
    }
   ],
   "source": [
    "smiles = train['smiles'].unique()\n",
    "len(smiles)"
   ]
  },
  {
   "cell_type": "code",
   "execution_count": 22,
   "id": "3433a272-e663-41ac-a4bb-61038eba1402",
   "metadata": {},
   "outputs": [
    {
     "name": "stdout",
     "output_type": "stream",
     "text": [
      "Invalid SMILES: Cn1cnnc1.Cn2c[n+](cn2)[Ru+3]([ClH-])([ClH-])([ClH-])([ClH-])[n+]3cnn(C)c3\n"
     ]
    },
    {
     "name": "stderr",
     "output_type": "stream",
     "text": [
      "[22:52:37] Explicit valence for atom # 13 Cl, 3, is greater than permitted\n",
      "[22:52:37] Explicit valence for atom # 13 Cl, 3, is greater than permitted\n"
     ]
    },
    {
     "data": {
      "text/plain": [
       "1"
      ]
     },
     "execution_count": 22,
     "metadata": {},
     "output_type": "execute_result"
    }
   ],
   "source": [
    "fails = [smiles2morgan(x) for x in smiles[20:30]]\n",
    "fails = [x for x in fails if x is not None]\n",
    "len(fails)"
   ]
  },
  {
   "cell_type": "code",
   "execution_count": 23,
   "id": "0dcd3ae4-85b0-4f0e-a23d-e8925edc5b3f",
   "metadata": {},
   "outputs": [
    {
     "data": {
      "text/plain": [
       "['Cn1cnnc1.Cn2c[n+](cn2)[Ru+3]([ClH-])([ClH-])([ClH-])([ClH-])[n+]3cnn(C)c3']"
      ]
     },
     "execution_count": 23,
     "metadata": {},
     "output_type": "execute_result"
    }
   ],
   "source": [
    "fails"
   ]
  },
  {
   "cell_type": "code",
   "execution_count": 24,
   "id": "7422c34e-893c-48cc-b790-3865a82721b3",
   "metadata": {},
   "outputs": [
    {
     "name": "stderr",
     "output_type": "stream",
     "text": [
      "[22:53:47] Explicit valence for atom # 13 Cl, 3, is greater than permitted\n"
     ]
    }
   ],
   "source": [
    "mol = Chem.MolFromSmiles('Cn1cnnc1.Cn2c[n+](cn2)[Ru+3]([ClH-])([ClH-])([ClH-])([ClH-])[n+]3cnn(C)c3')"
   ]
  },
  {
   "cell_type": "code",
   "execution_count": 25,
   "id": "63d89b3a-3c7b-434a-adc4-1e88cbe277c4",
   "metadata": {},
   "outputs": [],
   "source": [
    "mol"
   ]
  },
  {
   "cell_type": "code",
   "execution_count": null,
   "id": "708c318d-5a4a-4bb9-9184-44898a48eacf",
   "metadata": {},
   "outputs": [],
   "source": []
  }
 ],
 "metadata": {
  "kernelspec": {
   "display_name": "TransCDR",
   "language": "python",
   "name": "transcdr"
  },
  "language_info": {
   "codemirror_mode": {
    "name": "ipython",
    "version": 3
   },
   "file_extension": ".py",
   "mimetype": "text/x-python",
   "name": "python",
   "nbconvert_exporter": "python",
   "pygments_lexer": "ipython3",
   "version": "3.9.7"
  }
 },
 "nbformat": 4,
 "nbformat_minor": 5
}
