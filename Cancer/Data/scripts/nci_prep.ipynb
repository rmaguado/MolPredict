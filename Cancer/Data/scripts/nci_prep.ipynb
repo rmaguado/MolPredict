{
 "cells": [
  {
   "cell_type": "code",
   "execution_count": 1,
   "id": "8aff9c5a-ba63-4e8a-a455-55be71b22d67",
   "metadata": {},
   "outputs": [],
   "source": [
    "import matplotlib.pyplot as plt\n",
    "import pandas as pd\n",
    "import numpy as np\n",
    "import pubchempy as pcp"
   ]
  },
  {
   "cell_type": "code",
   "execution_count": 2,
   "id": "3bdcd6d7-799e-4b45-b24a-865f2bc840de",
   "metadata": {},
   "outputs": [],
   "source": [
    "def cid_to_smiles(cid):\n",
    "    try:\n",
    "        mol = pcp.Compound.from_cid(int(cid))\n",
    "        if mol:\n",
    "            smile = mol.isomeric_smiles\n",
    "            return smile\n",
    "    except:\n",
    "        pass\n",
    "    return float('nan')"
   ]
  },
  {
   "cell_type": "code",
   "execution_count": 3,
   "id": "66d9f4e4-a0e1-491b-9d50-83b9b4930268",
   "metadata": {},
   "outputs": [
    {
     "data": {
      "text/html": [
       "<div>\n",
       "<style scoped>\n",
       "    .dataframe tbody tr th:only-of-type {\n",
       "        vertical-align: middle;\n",
       "    }\n",
       "\n",
       "    .dataframe tbody tr th {\n",
       "        vertical-align: top;\n",
       "    }\n",
       "\n",
       "    .dataframe thead th {\n",
       "        text-align: right;\n",
       "    }\n",
       "</style>\n",
       "<table border=\"1\" class=\"dataframe\">\n",
       "  <thead>\n",
       "    <tr style=\"text-align: right;\">\n",
       "      <th></th>\n",
       "      <th>NSC</th>\n",
       "      <th>PANEL_CODE</th>\n",
       "      <th>CELL_NAME</th>\n",
       "      <th>AVERAGE</th>\n",
       "    </tr>\n",
       "  </thead>\n",
       "  <tbody>\n",
       "    <tr>\n",
       "      <th>0</th>\n",
       "      <td>123127</td>\n",
       "      <td>LNS</td>\n",
       "      <td>NCI-H460</td>\n",
       "      <td>-8.1196</td>\n",
       "    </tr>\n",
       "    <tr>\n",
       "      <th>1</th>\n",
       "      <td>123127</td>\n",
       "      <td>MEL</td>\n",
       "      <td>M14</td>\n",
       "      <td>-6.7945</td>\n",
       "    </tr>\n",
       "    <tr>\n",
       "      <th>2</th>\n",
       "      <td>123127</td>\n",
       "      <td>CNS</td>\n",
       "      <td>SF-539</td>\n",
       "      <td>-6.6120</td>\n",
       "    </tr>\n",
       "    <tr>\n",
       "      <th>3</th>\n",
       "      <td>123127</td>\n",
       "      <td>COL</td>\n",
       "      <td>COLO 205</td>\n",
       "      <td>-6.3511</td>\n",
       "    </tr>\n",
       "    <tr>\n",
       "      <th>4</th>\n",
       "      <td>123127</td>\n",
       "      <td>COL</td>\n",
       "      <td>SW-620</td>\n",
       "      <td>-6.5272</td>\n",
       "    </tr>\n",
       "  </tbody>\n",
       "</table>\n",
       "</div>"
      ],
      "text/plain": [
       "      NSC PANEL_CODE CELL_NAME  AVERAGE\n",
       "0  123127        LNS  NCI-H460  -8.1196\n",
       "1  123127        MEL       M14  -6.7945\n",
       "2  123127        CNS    SF-539  -6.6120\n",
       "3  123127        COL  COLO 205  -6.3511\n",
       "4  123127        COL    SW-620  -6.5272"
      ]
     },
     "execution_count": 3,
     "metadata": {},
     "output_type": "execute_result"
    }
   ],
   "source": [
    "nci = pd.read_csv(\"../raw/NCI60/IC50.csv\")\n",
    "nci = nci.loc[nci[\"CONCENTRATION_UNIT\"] == 'M'][['NSC','PANEL_CODE','CELL_NAME', 'AVERAGE']]\n",
    "nci.head()"
   ]
  },
  {
   "cell_type": "code",
   "execution_count": 4,
   "id": "08b2e015-9f48-4c88-b843-e70c16ea0770",
   "metadata": {},
   "outputs": [
    {
     "data": {
      "text/plain": [
       "3230120"
      ]
     },
     "execution_count": 4,
     "metadata": {},
     "output_type": "execute_result"
    }
   ],
   "source": [
    "nci = nci.groupby(['NSC', 'CELL_NAME', 'PANEL_CODE']).agg({'AVERAGE': 'mean'}).reset_index()\n",
    "len(nci)"
   ]
  },
  {
   "cell_type": "code",
   "execution_count": 5,
   "id": "935e430c-4d91-4861-ac4a-b8a38cdb72a3",
   "metadata": {},
   "outputs": [
    {
     "data": {
      "text/html": [
       "<div>\n",
       "<style scoped>\n",
       "    .dataframe tbody tr th:only-of-type {\n",
       "        vertical-align: middle;\n",
       "    }\n",
       "\n",
       "    .dataframe tbody tr th {\n",
       "        vertical-align: top;\n",
       "    }\n",
       "\n",
       "    .dataframe thead th {\n",
       "        text-align: right;\n",
       "    }\n",
       "</style>\n",
       "<table border=\"1\" class=\"dataframe\">\n",
       "  <thead>\n",
       "    <tr style=\"text-align: right;\">\n",
       "      <th></th>\n",
       "      <th>CELL_NAME</th>\n",
       "      <th>gdsc_name</th>\n",
       "    </tr>\n",
       "  </thead>\n",
       "  <tbody>\n",
       "    <tr>\n",
       "      <th>0</th>\n",
       "      <td>MCF7</td>\n",
       "      <td>MCF7</td>\n",
       "    </tr>\n",
       "    <tr>\n",
       "      <th>1</th>\n",
       "      <td>MDA-MB-231/ATCC</td>\n",
       "      <td>MDA-MB-231</td>\n",
       "    </tr>\n",
       "    <tr>\n",
       "      <th>2</th>\n",
       "      <td>HS 578T</td>\n",
       "      <td>NaN</td>\n",
       "    </tr>\n",
       "    <tr>\n",
       "      <th>3</th>\n",
       "      <td>BT-549</td>\n",
       "      <td>BT-549</td>\n",
       "    </tr>\n",
       "    <tr>\n",
       "      <th>4</th>\n",
       "      <td>T-47D</td>\n",
       "      <td>T47D</td>\n",
       "    </tr>\n",
       "  </tbody>\n",
       "</table>\n",
       "</div>"
      ],
      "text/plain": [
       "         CELL_NAME   gdsc_name\n",
       "0             MCF7        MCF7\n",
       "1  MDA-MB-231/ATCC  MDA-MB-231\n",
       "2          HS 578T         NaN\n",
       "3           BT-549      BT-549\n",
       "4            T-47D        T47D"
      ]
     },
     "execution_count": 5,
     "metadata": {},
     "output_type": "execute_result"
    }
   ],
   "source": [
    "nci_gdsc_codes = pd.read_csv(\"../processed/nci_codes.csv\")\n",
    "nci_gdsc_codes = nci_gdsc_codes.rename(columns={\"nci\": \"CELL_NAME\", \"gdsc\":\"gdsc_name\"})\n",
    "nci_gdsc_codes.head()"
   ]
  },
  {
   "cell_type": "code",
   "execution_count": 6,
   "id": "876b1508-0a47-4655-bdd4-2ba327be7a8a",
   "metadata": {},
   "outputs": [
    {
     "data": {
      "text/html": [
       "<div>\n",
       "<style scoped>\n",
       "    .dataframe tbody tr th:only-of-type {\n",
       "        vertical-align: middle;\n",
       "    }\n",
       "\n",
       "    .dataframe tbody tr th {\n",
       "        vertical-align: top;\n",
       "    }\n",
       "\n",
       "    .dataframe thead th {\n",
       "        text-align: right;\n",
       "    }\n",
       "</style>\n",
       "<table border=\"1\" class=\"dataframe\">\n",
       "  <thead>\n",
       "    <tr style=\"text-align: right;\">\n",
       "      <th></th>\n",
       "      <th>NSC</th>\n",
       "      <th>SID</th>\n",
       "      <th>CID</th>\n",
       "    </tr>\n",
       "  </thead>\n",
       "  <tbody>\n",
       "    <tr>\n",
       "      <th>0</th>\n",
       "      <td>1</td>\n",
       "      <td>66954</td>\n",
       "      <td>11122.0</td>\n",
       "    </tr>\n",
       "    <tr>\n",
       "      <th>1</th>\n",
       "      <td>2</td>\n",
       "      <td>66955</td>\n",
       "      <td>8447.0</td>\n",
       "    </tr>\n",
       "    <tr>\n",
       "      <th>2</th>\n",
       "      <td>3</td>\n",
       "      <td>66956</td>\n",
       "      <td>13681.0</td>\n",
       "    </tr>\n",
       "    <tr>\n",
       "      <th>3</th>\n",
       "      <td>4</td>\n",
       "      <td>66957</td>\n",
       "      <td>8486.0</td>\n",
       "    </tr>\n",
       "    <tr>\n",
       "      <th>4</th>\n",
       "      <td>5</td>\n",
       "      <td>66958</td>\n",
       "      <td>8341.0</td>\n",
       "    </tr>\n",
       "  </tbody>\n",
       "</table>\n",
       "</div>"
      ],
      "text/plain": [
       "   NSC    SID      CID\n",
       "0    1  66954  11122.0\n",
       "1    2  66955   8447.0\n",
       "2    3  66956  13681.0\n",
       "3    4  66957   8486.0\n",
       "4    5  66958   8341.0"
      ]
     },
     "execution_count": 6,
     "metadata": {},
     "output_type": "execute_result"
    }
   ],
   "source": [
    "nsc_smiles = pd.read_csv(\"../raw/NCI60/nsc_sid_cid.csv\")\n",
    "nsc_smiles = nsc_smiles.dropna(subset='CID')\n",
    "nsc_smiles.head()"
   ]
  },
  {
   "cell_type": "code",
   "execution_count": 7,
   "id": "d90d836e-f4e2-4cd2-a0c8-48027b1cc4bf",
   "metadata": {},
   "outputs": [
    {
     "data": {
      "text/html": [
       "<div>\n",
       "<style scoped>\n",
       "    .dataframe tbody tr th:only-of-type {\n",
       "        vertical-align: middle;\n",
       "    }\n",
       "\n",
       "    .dataframe tbody tr th {\n",
       "        vertical-align: top;\n",
       "    }\n",
       "\n",
       "    .dataframe thead th {\n",
       "        text-align: right;\n",
       "    }\n",
       "</style>\n",
       "<table border=\"1\" class=\"dataframe\">\n",
       "  <thead>\n",
       "    <tr style=\"text-align: right;\">\n",
       "      <th></th>\n",
       "      <th>NSC</th>\n",
       "      <th>CELL_NAME</th>\n",
       "      <th>PANEL_CODE</th>\n",
       "      <th>AVERAGE</th>\n",
       "      <th>gdsc_name</th>\n",
       "      <th>SID</th>\n",
       "      <th>CID</th>\n",
       "    </tr>\n",
       "  </thead>\n",
       "  <tbody>\n",
       "    <tr>\n",
       "      <th>1</th>\n",
       "      <td>1</td>\n",
       "      <td>A498</td>\n",
       "      <td>REN</td>\n",
       "      <td>-2.116533</td>\n",
       "      <td>A498</td>\n",
       "      <td>66954</td>\n",
       "      <td>11122.0</td>\n",
       "    </tr>\n",
       "    <tr>\n",
       "      <th>2</th>\n",
       "      <td>1</td>\n",
       "      <td>A549/ATCC</td>\n",
       "      <td>LNS</td>\n",
       "      <td>-1.725633</td>\n",
       "      <td>A549</td>\n",
       "      <td>66954</td>\n",
       "      <td>11122.0</td>\n",
       "    </tr>\n",
       "    <tr>\n",
       "      <th>3</th>\n",
       "      <td>1</td>\n",
       "      <td>ACHN</td>\n",
       "      <td>REN</td>\n",
       "      <td>-0.974133</td>\n",
       "      <td>ACHN</td>\n",
       "      <td>66954</td>\n",
       "      <td>11122.0</td>\n",
       "    </tr>\n",
       "    <tr>\n",
       "      <th>4</th>\n",
       "      <td>1</td>\n",
       "      <td>BT-549</td>\n",
       "      <td>BRE</td>\n",
       "      <td>-1.524467</td>\n",
       "      <td>BT-549</td>\n",
       "      <td>66954</td>\n",
       "      <td>11122.0</td>\n",
       "    </tr>\n",
       "    <tr>\n",
       "      <th>5</th>\n",
       "      <td>1</td>\n",
       "      <td>CAKI-1</td>\n",
       "      <td>REN</td>\n",
       "      <td>-1.445300</td>\n",
       "      <td>CAKI-1</td>\n",
       "      <td>66954</td>\n",
       "      <td>11122.0</td>\n",
       "    </tr>\n",
       "  </tbody>\n",
       "</table>\n",
       "</div>"
      ],
      "text/plain": [
       "   NSC  CELL_NAME PANEL_CODE   AVERAGE gdsc_name    SID      CID\n",
       "1    1       A498        REN -2.116533      A498  66954  11122.0\n",
       "2    1  A549/ATCC        LNS -1.725633      A549  66954  11122.0\n",
       "3    1       ACHN        REN -0.974133      ACHN  66954  11122.0\n",
       "4    1     BT-549        BRE -1.524467    BT-549  66954  11122.0\n",
       "5    1     CAKI-1        REN -1.445300    CAKI-1  66954  11122.0"
      ]
     },
     "execution_count": 7,
     "metadata": {},
     "output_type": "execute_result"
    }
   ],
   "source": [
    "nci_prep = pd.merge(nci, nci_gdsc_codes, on='CELL_NAME', how='inner')\n",
    "nci_prep = pd.merge(nci_prep, nsc_smiles, on='NSC', how='inner')\n",
    "nci_prep = nci_prep.dropna(subset=[\"gdsc_name\"])\n",
    "nci_prep['AVERAGE'] = nci_prep.loc[:, 'AVERAGE'].apply(lambda x : -x - 6)\n",
    "nci_prep['AVERAGE'] = nci_prep.loc[:, 'AVERAGE'].clip(lower=-4, upper=4)\n",
    "nci_prep.head()"
   ]
  },
  {
   "cell_type": "code",
   "execution_count": 8,
   "id": "23541d13-09fa-40ee-946b-b686f7a616a4",
   "metadata": {},
   "outputs": [
    {
     "data": {
      "text/plain": [
       "55177"
      ]
     },
     "execution_count": 8,
     "metadata": {},
     "output_type": "execute_result"
    }
   ],
   "source": [
    "cid_smiles = pd.DataFrame({'CID':nci_prep['CID'].unique()})\n",
    "cid_smiles['smiles'] = cid_smiles['CID'].apply(cid_to_smiles)\n",
    "cid_smiles = cid_smiles.dropna()\n",
    "len(cid_smiles)"
   ]
  },
  {
   "cell_type": "code",
   "execution_count": 9,
   "id": "548c9d8e-87b0-49d6-9ac3-0693846ab572",
   "metadata": {},
   "outputs": [
    {
     "data": {
      "image/png": "[encoded data removed]",
      "text/plain": [
       "<Figure size 432x288 with 1 Axes>"
      ]
     },
     "metadata": {
      "needs_background": "light"
     },
     "output_type": "display_data"
    }
   ],
   "source": [
    "plt.hist(nci_prep['AVERAGE'], bins=100)\n",
    "plt.title(\"micromolar pIC50\")\n",
    "plt.show()"
   ]
  },
  {
   "cell_type": "code",
   "execution_count": 10,
   "id": "73fd8e43-850e-4aba-9e92-c8a60cde863e",
   "metadata": {},
   "outputs": [
    {
     "data": {
      "text/html": [
       "<div>\n",
       "<style scoped>\n",
       "    .dataframe tbody tr th:only-of-type {\n",
       "        vertical-align: middle;\n",
       "    }\n",
       "\n",
       "    .dataframe tbody tr th {\n",
       "        vertical-align: top;\n",
       "    }\n",
       "\n",
       "    .dataframe thead th {\n",
       "        text-align: right;\n",
       "    }\n",
       "</style>\n",
       "<table border=\"1\" class=\"dataframe\">\n",
       "  <thead>\n",
       "    <tr style=\"text-align: right;\">\n",
       "      <th></th>\n",
       "      <th>cell_line</th>\n",
       "      <th>panel</th>\n",
       "      <th>smiles</th>\n",
       "      <th>pIC50</th>\n",
       "    </tr>\n",
       "  </thead>\n",
       "  <tbody>\n",
       "    <tr>\n",
       "      <th>0</th>\n",
       "      <td>A498</td>\n",
       "      <td>REN</td>\n",
       "      <td>CC1=CC(=O)C=CC1=O</td>\n",
       "      <td>-2.116533</td>\n",
       "    </tr>\n",
       "    <tr>\n",
       "      <th>1</th>\n",
       "      <td>A549</td>\n",
       "      <td>LNS</td>\n",
       "      <td>CC1=CC(=O)C=CC1=O</td>\n",
       "      <td>-1.725633</td>\n",
       "    </tr>\n",
       "    <tr>\n",
       "      <th>2</th>\n",
       "      <td>ACHN</td>\n",
       "      <td>REN</td>\n",
       "      <td>CC1=CC(=O)C=CC1=O</td>\n",
       "      <td>-0.974133</td>\n",
       "    </tr>\n",
       "    <tr>\n",
       "      <th>3</th>\n",
       "      <td>BT-549</td>\n",
       "      <td>BRE</td>\n",
       "      <td>CC1=CC(=O)C=CC1=O</td>\n",
       "      <td>-1.524467</td>\n",
       "    </tr>\n",
       "    <tr>\n",
       "      <th>4</th>\n",
       "      <td>CAKI-1</td>\n",
       "      <td>REN</td>\n",
       "      <td>CC1=CC(=O)C=CC1=O</td>\n",
       "      <td>-1.445300</td>\n",
       "    </tr>\n",
       "  </tbody>\n",
       "</table>\n",
       "</div>"
      ],
      "text/plain": [
       "  cell_line panel             smiles     pIC50\n",
       "0      A498   REN  CC1=CC(=O)C=CC1=O -2.116533\n",
       "1      A549   LNS  CC1=CC(=O)C=CC1=O -1.725633\n",
       "2      ACHN   REN  CC1=CC(=O)C=CC1=O -0.974133\n",
       "3    BT-549   BRE  CC1=CC(=O)C=CC1=O -1.524467\n",
       "4    CAKI-1   REN  CC1=CC(=O)C=CC1=O -1.445300"
      ]
     },
     "execution_count": 10,
     "metadata": {},
     "output_type": "execute_result"
    }
   ],
   "source": [
    "nci_prep_smiles = pd.merge(nci_prep, cid_smiles, on=\"CID\", how=\"inner\")\n",
    "nci_prep_smiles.rename(columns={\n",
    "    \"AVERAGE\": \"pIC50\",\n",
    "    \"SMILES\":\"smiles\",\n",
    "    \"PANEL_CODE\": \"panel\",\n",
    "    \"gdsc_name\": \"cell_line\"\n",
    "}, inplace=True)\n",
    "nci_prep_smiles = nci_prep_smiles[pd.notna(nci_prep_smiles[\"smiles\"])]\n",
    "nci_final = nci_prep_smiles[[\"cell_line\", \"panel\", \"smiles\", \"pIC50\"]]\n",
    "nci_final.head()"
   ]
  },
  {
   "cell_type": "code",
   "execution_count": 12,
   "id": "1a6daa05-f6b5-43fe-88a6-d64250c3c6d2",
   "metadata": {},
   "outputs": [],
   "source": [
    "nci_final.to_csv(\"../processed/nci_cdr.csv\", index=False)"
   ]
  },
  {
   "cell_type": "code",
   "execution_count": null,
   "id": "11491ff1-af4b-452f-9e9f-29301fc3d919",
   "metadata": {},
   "outputs": [],
   "source": []
  }
 ],
 "metadata": {
  "kernelspec": {
   "display_name": "Python 3 (ipykernel)",
   "language": "python",
   "name": "python3"
  },
  "language_info": {
   "codemirror_mode": {
    "name": "ipython",
    "version": 3
   },
   "file_extension": ".py",
   "mimetype": "text/x-python",
   "name": "python",
   "nbconvert_exporter": "python",
   "pygments_lexer": "ipython3",
   "version": "3.9.7"
  }
 },
 "nbformat": 4,
 "nbformat_minor": 5
}
